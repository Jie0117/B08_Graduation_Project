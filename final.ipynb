{
 "cells": [
  {
   "cell_type": "code",
   "execution_count": 3,
   "metadata": {},
   "outputs": [
    {
     "ename": "ModuleNotFoundError",
     "evalue": "No module named 'jetbot'",
     "output_type": "error",
     "traceback": [
      "\u001b[1;31m---------------------------------------------------------------------------\u001b[0m",
      "\u001b[1;31mModuleNotFoundError\u001b[0m                       Traceback (most recent call last)",
      "\u001b[1;32m<ipython-input-3-23fdd5aac243>\u001b[0m in \u001b[0;36m<module>\u001b[1;34m\u001b[0m\n\u001b[0;32m      1\u001b[0m \u001b[1;31m#import torchvision\u001b[0m\u001b[1;33m\u001b[0m\u001b[1;33m\u001b[0m\u001b[1;33m\u001b[0m\u001b[0m\n\u001b[0;32m      2\u001b[0m \u001b[1;31m#import torch\u001b[0m\u001b[1;33m\u001b[0m\u001b[1;33m\u001b[0m\u001b[1;33m\u001b[0m\u001b[0m\n\u001b[1;32m----> 3\u001b[1;33m \u001b[1;32mfrom\u001b[0m \u001b[0mjetbot\u001b[0m \u001b[1;32mimport\u001b[0m \u001b[0mRobot\u001b[0m\u001b[1;33m\u001b[0m\u001b[1;33m\u001b[0m\u001b[0m\n\u001b[0m\u001b[0;32m      4\u001b[0m \u001b[1;32mimport\u001b[0m \u001b[0mtorchvision\u001b[0m\u001b[1;33m.\u001b[0m\u001b[0mtransforms\u001b[0m \u001b[1;32mas\u001b[0m \u001b[0mtransforms\u001b[0m\u001b[1;33m\u001b[0m\u001b[1;33m\u001b[0m\u001b[0m\n\u001b[0;32m      5\u001b[0m \u001b[1;32mimport\u001b[0m \u001b[0mtorch\u001b[0m\u001b[1;33m.\u001b[0m\u001b[0mnn\u001b[0m\u001b[1;33m.\u001b[0m\u001b[0mfunctional\u001b[0m \u001b[1;32mas\u001b[0m \u001b[0mF\u001b[0m\u001b[1;33m\u001b[0m\u001b[1;33m\u001b[0m\u001b[0m\n",
      "\u001b[1;31mModuleNotFoundError\u001b[0m: No module named 'jetbot'"
     ]
    }
   ],
   "source": [
    "import torchvision\n",
    "import torch\n",
    "from jetbot import Robot\n",
    "import torchvision.transforms as transforms\n",
    "import torch.nn.functional as F\n",
    "import cv2\n",
    "import PIL.Image\n",
    "import numpy as np\n",
    "from IPython.display import display\n",
    "import ipywidgets\n",
    "import traitlets\n",
    "import ipywidgets.widgets as widgets\n",
    "from jetbot import Camera, bgr8_to_jpeg\n",
    "import math\n",
    "import zmq\n",
    "import time"
   ]
  },
  {
   "cell_type": "code",
   "execution_count": 2,
   "metadata": {},
   "outputs": [],
   "source": [
    "model = torchvision.models.resnet18(pretrained=False)\n",
    "model.fc = torch.nn.Linear(512, 2)\n",
    "model.load_state_dict(torch.load('new3_best_steering.pth'))\n",
    "device1 = torch.device('cuda')\n",
    "\n",
    "model = model.to(device1)\n",
    "model = model.eval().half()"
   ]
  },
  {
   "cell_type": "code",
   "execution_count": 3,
   "metadata": {},
   "outputs": [],
   "source": [
    "model_collision = torchvision.models.alexnet(pretrained=False)\n",
    "model_collision.classifier[6] = torch.nn.Linear(model_collision.classifier[6].in_features, 4)\n",
    "\n",
    "model_collision.load_state_dict(torch.load('new0810_best_model.pth'))\n",
    "\n",
    "device2 = torch.device('cuda')\n",
    "model_collision = model_collision.to(device2)\n",
    "model_collision = model_collision.eval().half()"
   ]
  },
  {
   "cell_type": "code",
   "execution_count": 4,
   "metadata": {},
   "outputs": [],
   "source": [
    "mean = torch.Tensor([0.485, 0.456, 0.406]).cuda().half()\n",
    "std = torch.Tensor([0.229, 0.224, 0.225]).cuda().half()\n",
    "\n",
    "def preprocess(image):\n",
    "    image = PIL.Image.fromarray(image)\n",
    "    image = transforms.functional.to_tensor(image).to(device1).half()\n",
    "    image.sub_(mean[:, None, None]).div_(std[:, None, None])\n",
    "    return image[None, ...]"
   ]
  },
  {
   "cell_type": "code",
   "execution_count": 5,
   "metadata": {},
   "outputs": [],
   "source": [
    "camera = Camera.instance(width=224, height=224, fps = 5)"
   ]
  },
  {
   "cell_type": "code",
   "execution_count": 6,
   "metadata": {},
   "outputs": [
    {
     "name": "stdout",
     "output_type": "stream",
     "text": [
      "board begin success\n"
     ]
    }
   ],
   "source": [
    "robot = Robot(driver_board=\"dfrobot\")"
   ]
  },
  {
   "cell_type": "code",
   "execution_count": 4,
   "metadata": {},
   "outputs": [
    {
     "data": {
      "application/vnd.jupyter.widget-view+json": {
       "model_id": "f004d7111756497683956b2831464a58",
       "version_major": 2,
       "version_minor": 0
      },
      "text/plain": [
       "FloatSlider(value=0.3, description='speed control', max=1.0, step=0.01)"
      ]
     },
     "metadata": {},
     "output_type": "display_data"
    },
    {
     "data": {
      "application/vnd.jupyter.widget-view+json": {
       "model_id": "10939875445047e0b12eb4bc6ea4cba0",
       "version_major": 2,
       "version_minor": 0
      },
      "text/plain": [
       "FloatSlider(value=0.1, description='steering gain', max=1.0, step=0.01)"
      ]
     },
     "metadata": {},
     "output_type": "display_data"
    },
    {
     "data": {
      "application/vnd.jupyter.widget-view+json": {
       "model_id": "9fe967076c2b4e269d6804fcdbff289c",
       "version_major": 2,
       "version_minor": 0
      },
      "text/plain": [
       "FloatSlider(value=0.01, description='steering kd', max=0.5, step=0.001)"
      ]
     },
     "metadata": {},
     "output_type": "display_data"
    },
    {
     "data": {
      "application/vnd.jupyter.widget-view+json": {
       "model_id": "906af463935f47759f1f56e25a1108c3",
       "version_major": 2,
       "version_minor": 0
      },
      "text/plain": [
       "FloatSlider(value=0.0, description='steering bias', max=0.3, min=-0.3, step=0.01)"
      ]
     },
     "metadata": {},
     "output_type": "display_data"
    },
    {
     "data": {
      "application/vnd.jupyter.widget-view+json": {
       "model_id": "dab1dc0c68b44a09a735d343627b93e2",
       "version_major": 2,
       "version_minor": 0
      },
      "text/plain": [
       "HBox(children=(FloatSlider(value=0.7, description='blocked threshold', max=1.0, step=0.01), FloatSlider(value=…"
      ]
     },
     "metadata": {},
     "output_type": "display_data"
    },
    {
     "data": {
      "application/vnd.jupyter.widget-view+json": {
       "model_id": "6abb60358ab747e1baec4058000af22f",
       "version_major": 2,
       "version_minor": 0
      },
      "text/plain": [
       "HBox(children=(FloatSlider(value=0.0, description='blocked', max=1.0, orientation='vertical'), FloatSlider(val…"
      ]
     },
     "metadata": {},
     "output_type": "display_data"
    }
   ],
   "source": [
    "speed_control_slider = ipywidgets.FloatSlider(min=0.0, max=1.0, step=0.01,value = 0.30, description='speed control')\n",
    "steering_gain_slider = ipywidgets.FloatSlider(min=0.0, max=1.0, step=0.01, value=0.10, description='steering gain')\n",
    "steering_dgain_slider = ipywidgets.FloatSlider(min=0.0, max=0.5, step=0.001, value=0.01, description='steering kd')\n",
    "steering_bias_slider = ipywidgets.FloatSlider(min=-0.3, max=0.3, step=0.01, value=0.0, description='steering bias')\n",
    "display(speed_control_slider, steering_gain_slider, steering_dgain_slider, steering_bias_slider)\n",
    "\n",
    "\n",
    "blocked_threshold= ipywidgets.FloatSlider(min=0, max=1.0, step=0.01, value=0.7, description='blocked threshold')\n",
    "T_slider_threshold= ipywidgets.FloatSlider(min=0, max=1.0, step=0.01, value=0.8, description='T_slider threshold')\n",
    "\n",
    "display(ipywidgets.HBox([blocked_threshold,T_slider_threshold]))\n",
    "\n",
    "\n",
    "blocked_slider = widgets.FloatSlider(description='blocked', min=0.0, max=1.0, orientation='vertical')\n",
    "ITC_slider = widgets.FloatSlider(description='Intersection', min=0.0, max=1.0, orientation='vertical')\n",
    "free_slider = widgets.FloatSlider(description='free', min=0.0, max=1.0, orientation='vertical')\n",
    "T_slider = widgets.FloatSlider(description='T', min=0.0, max=1.0, orientation='vertical')\n",
    "\n",
    "display(widgets.HBox([blocked_slider,free_slider,T_slider,ITC_slider]))"
   ]
  },
  {
   "cell_type": "code",
   "execution_count": 8,
   "metadata": {},
   "outputs": [],
   "source": [
    "steer_val = 0\n",
    "angle = 0.0\n",
    "angle_last = 0.0\n",
    "count_stops = 0\n",
    "angle_subtrace = 0\n",
    "go_on = 1\n",
    "x = 0.0\n",
    "y = 0.0\n",
    "speed_value = speed_control_slider.value\n",
    "\n",
    "def judgeCondition(change):#判斷前方狀況\n",
    "    global prob_T, prob_blocked, prob_free, blocked_threshold, prob_ITC\n",
    "    \n",
    "    image_preproc2 = preprocess(change['new']).to(device2)\n",
    "    prob_ITC  = float(F.softmax(model_collision(image_preproc2), dim=1).flatten()[0])\n",
    "    prob_T = float(F.softmax(model_collision(image_preproc2), dim=1).flatten()[1])\n",
    "    prob_blocked = float(F.softmax(model_collision(image_preproc2), dim=1).flatten()[2])\n",
    "    prob_free = float(F.softmax(model_collision(image_preproc2), dim=1).flatten()[3])\n",
    "    ITC_slider.value = prob_ITC\n",
    "    T_slider.value = prob_T\n",
    "    blocked_slider.value = prob_blocked\n",
    "    free_slider.value = prob_free    \n",
    "    steer_gain = steering_gain_slider.value\n",
    "    steer_dgain = steering_dgain_slider.value\n",
    "    steer_bias = steering_bias_slider.value\n",
    "    \n",
    "def execute(change):#road_Following改良演算法\n",
    "    global angle, angle_last, blocked_slider, robot, x, y, steer_val\n",
    "    global speed_value, steer_gain, steer_dgain, steer_bias, condition\n",
    "    steer_gain = steering_gain_slider.value\n",
    "    steer_dgain = steering_dgain_slider.value\n",
    "    steer_bias = steering_bias_slider.value\n",
    "    image_preproc1 = preprocess(change['new']).to(device1)\n",
    "    angle = math.atan2(x, y)        \n",
    "    if angle > -1.2 and angle < 1.2 :\n",
    "        angle_subtrace = 0 \n",
    "    else:\n",
    "        angle_subtrace = angle\n",
    "    xy = model(image_preproc1).detach().float().cpu().numpy().flatten()\n",
    "    x = xy[0]            \n",
    "    y = (0.5 - xy[1]) / 2.0\n",
    "    speed_value = speed_control_slider.value\n",
    "    pid = 2*(angle * steer_gain)/3 + (angle_subtrace) * steer_dgain\n",
    "    steer_val = pid + steer_bias \n",
    "    angle_last = angle "
   ]
  },
  {
   "cell_type": "code",
   "execution_count": 9,
   "metadata": {},
   "outputs": [],
   "source": [
    "context = zmq.Context()\n",
    "socket = context.socket(zmq.PUB)\n",
    "socket.bind(\"tcp://192.168.100.108:5555\")\n",
    "socket.send(b\"connecting\")"
   ]
  },
  {
   "cell_type": "code",
   "execution_count": 10,
   "metadata": {},
   "outputs": [],
   "source": [
    "def t_right(b):\n",
    "    import time\n",
    "    global steer_val,speed_value, socket, camera, prob_blocked\n",
    "    if b['new']:#當按鈕按下時\n",
    "        socket.send(b\"Right\")#傳送Right出去\n",
    "        socket.send(b\"On\")#傳送On出去\n",
    "        robot.left_motor.value = 0.4\n",
    "        robot.right_motor.value = 0.4\n",
    "        time.sleep(2.8)\n",
    "        robot.left_motor.value = 0.5\n",
    "        robot.right_motor.value = 0.0\n",
    "        time.sleep(1.2)\n",
    "        robot.left_motor.value = 0\n",
    "        robot.right_motor.value = 0\n",
    "        time.sleep(0.5)\n",
    "        camera.observe(RC, names='value')#開啟相機更新自動執行\n",
    "        \n",
    "def t_left(b):\n",
    "    import time\n",
    "    global steer_val,speed_value, socket, camera, prob_blocked\n",
    "    if b['new']:\n",
    "        socket.send(b\"Left\")\n",
    "        socket.send(b\"On\")\n",
    "        robot.left_motor.value = 0.4\n",
    "        robot.right_motor.value = 0.4\n",
    "        time.sleep(2.8)\n",
    "        robot.left_motor.value = 0.0\n",
    "        robot.right_motor.value = 0.5\n",
    "        time.sleep(1.2)\n",
    "        robot.left_motor.value = 0\n",
    "        robot.right_motor.value = 0\n",
    "        time.sleep(0.5)\n",
    "        \n",
    "def start(b):\n",
    "    global socket, camera\n",
    "    if b['new']:                                #當按鈕按下時\n",
    "        socket.send(b\"On\")                        #傳送On出去\n",
    "        camera.observe(RC, names='value')#開啟相機更新自動執行\n",
    "         \n",
    "def break_RC(b):\n",
    "    global camera, robot, socket\n",
    "    if b['new']:                                     #當按鈕按下時\n",
    "        socket.send(b\"Off\")                          #傳送Off出去\n",
    "        camera.unobserve(RC, names = 'value')#關閉相機更新自動執行\n",
    "        robot.stop()\n",
    "        robot.left_motor.value =  0.0\n",
    "        robot.right_motor.value = 0.0\n",
    "        robot = Robot(driver_board=\"dfrobot\")     #讓馬達數值歸0\n",
    "\n",
    "def forward(b):\n",
    "    import time\n",
    "    global steer_val,speed_value, socket, camera, prob_blocked\n",
    "    if b['new']:\n",
    "        socket.send(b\"Forward\")\n",
    "        socket.send(b\"On\")\n",
    "        robot.left_motor.value =  0.5\n",
    "        robot.right_motor.value = 0.5\n",
    "        time.sleep(3)\n",
    "        robot.stop()\n",
    "        camera.observe(RC, names='value')"
   ]
  },
  {
   "cell_type": "code",
   "execution_count": 5,
   "metadata": {},
   "outputs": [
    {
     "data": {
      "application/vnd.jupyter.widget-view+json": {
       "model_id": "cdf606131f57436fb3192dccdb650508",
       "version_major": 2,
       "version_minor": 0
      },
      "text/plain": [
       "Controller()"
      ]
     },
     "metadata": {},
     "output_type": "display_data"
    }
   ],
   "source": [
    "controller = widgets.Controller(index=0)  # replace with index of your controller\n",
    "display(controller)"
   ]
  },
  {
   "cell_type": "code",
   "execution_count": 14,
   "metadata": {},
   "outputs": [],
   "source": [
    "controller.buttons[1].observe(t_right, names = 'value')\n",
    "controller.buttons[2].observe(t_left, names = 'value')\n",
    "controller.buttons[9].observe(start, names = 'value')\n",
    "controller.buttons[0].observe(break_RC, names = 'value')\n",
    "controller.buttons[3].observe(forward, names = 'value')\n",
    "#手動控制馬達\n",
    "left_link3 = traitlets.dlink((controller.axes[3], 'value'), (robot.left_motor,'value'), transform=lambda x: -0.5*x)\n",
    "right_link3 = traitlets.dlink((controller.axes[3], 'value'), (robot.right_motor, 'value'), transform=lambda x: -0.5*x)\n",
    "left_link0 = traitlets.dlink((controller.axes[0], 'value'), (robot.left_motor,'value'), transform=lambda x: 0.5*x)\n",
    "right_link0 = traitlets.dlink((controller.axes[0], 'value'), (robot.right_motor, 'value'), transform=lambda x: -0.5*x)"
   ]
  },
  {
   "cell_type": "code",
   "execution_count": 15,
   "metadata": {},
   "outputs": [],
   "source": [
    "def RC(change):\n",
    "    global steer_val, speed_value, socket, camera, x, y, count, angle\n",
    "    global prob_T, prob_blocked, prob_free, blocked_threshold, prob_ITC\n",
    "    judgeCondition({'new': camera.value})\n",
    "    execute({'new': camera.value})\n",
    "    if prob_blocked > blocked_threshold.value:#障礙物\n",
    "        socket.send(b\"Waiting\")\n",
    "        robot.left_motor.value = int(robot.left_motor.value / 2)\n",
    "        robot.right_motor.value = int(robot.left_motor.value / 2)\n",
    "    elif prob_T > T_slider_threshold.value:  #T字路口\n",
    "        x = 0.0 #set x steering to zero\n",
    "        y = 0.0 #set y steering to zero\n",
    "        speed_value = 0 # set speed to zero (can set to turn as well)\n",
    "        camera.unobserve(RC, names = 'value')\n",
    "        robot.stop()\n",
    "        socket.send(b\"T road\")\n",
    "    elif prob_ITC > 0.9:                     #十字路口\n",
    "        x = 0.0 #set x steering to zero\n",
    "        y = 0.0 #set y steering to zero\n",
    "        camera.unobserve(RC, names = 'value')\n",
    "        robot.stop()\n",
    "        socket.send(b\"Intersection\")\n",
    "        speed_value = 0 # set speed to zero (can set to turn as well)\n",
    "    else:\n",
    "        robot.left_motor.value = max(min(speed_value + steer_val, 1.0), 0.0)\n",
    "        robot.right_motor.value = max(min(speed_value - steer_val, 1.0), 0.0)\n",
    "        if angle > 1.2:                         #右轉\n",
    "            socket.send(b\"R\")\n",
    "        if angle < -1.2:                        #左轉\n",
    "            socket.send(b\"L\")"
   ]
  },
  {
   "cell_type": "code",
   "execution_count": 16,
   "metadata": {},
   "outputs": [],
   "source": [
    "RC({'new':camera.value}) #執行一次測試"
   ]
  },
  {
   "cell_type": "code",
   "execution_count": 17,
   "metadata": {},
   "outputs": [],
   "source": [
    "camera.observe(RC, names='value')#相機更新時執行RC函式"
   ]
  },
  {
   "cell_type": "code",
   "execution_count": 18,
   "metadata": {},
   "outputs": [],
   "source": [
    "camera.unobserve(RC, names='value')\n",
    "robot.stop()"
   ]
  },
  {
   "cell_type": "code",
   "execution_count": 22,
   "metadata": {},
   "outputs": [],
   "source": [
    "robot.left_motor.value = 0\n",
    "robot.right_motor.value = 0\n",
    "time.sleep(4)"
   ]
  }
 ],
 "metadata": {
  "kernelspec": {
   "display_name": "Python 3",
   "language": "python",
   "name": "python3"
  },
  "language_info": {
   "codemirror_mode": {
    "name": "ipython",
    "version": 3
   },
   "file_extension": ".py",
   "mimetype": "text/x-python",
   "name": "python",
   "nbconvert_exporter": "python",
   "pygments_lexer": "ipython3",
   "version": "3.7.3"
  }
 },
 "nbformat": 4,
 "nbformat_minor": 4
}
